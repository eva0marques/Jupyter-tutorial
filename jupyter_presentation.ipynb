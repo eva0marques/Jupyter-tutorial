{
 "cells": [
  {
   "cell_type": "markdown",
   "metadata": {
    "collapsed": true,
    "slideshow": {
     "slide_type": "slide"
    }
   },
   "source": [
    "<center>\n",
    "# Bienvenue à la présentation de Jupyter Notebook "
   ]
  },
  {
   "cell_type": "markdown",
   "metadata": {
    "slideshow": {
     "slide_type": "skip"
    }
   },
   "source": [
    "<center>  INF8882 - A17\n",
    " \n",
    "![](http://geo.uqam.ca/upload/files/Logos/uqam_logo.png)\n",
    " </center>"
   ]
  },
  {
   "cell_type": "markdown",
   "metadata": {
    "slideshow": {
     "slide_type": "slide"
    }
   },
   "source": [
    "# Qu'est ce que Jupyter ?\n",
    "\n"
   ]
  },
  {
   "cell_type": "markdown",
   "metadata": {
    "slideshow": {
     "slide_type": "fragment"
    }
   },
   "source": [
    "Jupyter est une application web permettant de générer des fichiers appelés \"notebooks\" (`.ipynb`) où l'on peut : \n",
    "- éditer du code en python (par défaut), R, SAS, Java, Fortran, C++, C#, MATLAB, Scala, Perl... À condition d'installer le <a href=\"https://github.com/jupyter/jupyter/wiki/Jupyter-kernels\"> kernel associé</a>.\n",
    "- exécuter le code à partir du navigateur\n",
    "- insérer au milieu du code des zones de texte, les sorties de code, des images... "
   ]
  },
  {
   "cell_type": "markdown",
   "metadata": {
    "slideshow": {
     "slide_type": "fragment"
    }
   },
   "source": [
    "#### En résumé : tout concilier (code et explications) dans un même notebook `.ipynb`, plus agréable à lire. "
   ]
  },
  {
   "cell_type": "markdown",
   "metadata": {
    "slideshow": {
     "slide_type": "slide"
    }
   },
   "source": [
    "# Installation \n",
    "\n",
    "Suivez les <a href=\"https://jupyter.readthedocs.io/en/latest/install.html#install\"> instructions</a> afin d'installer Jupyter (possible sous Windows, Linux, et Mac OS)\n",
    "\n",
    "### Pour ouvrir l'application Jupyter \n",
    "\n",
    "Ouvrez un terminal ou le shell anaconda (sous Windows) et entrez la commande :   \n",
    "`> jupyter notebook`  "
   ]
  },
  {
   "cell_type": "markdown",
   "metadata": {
    "slideshow": {
     "slide_type": "slide"
    }
   },
   "source": [
    "# Premiers pas avec Jupyter Notebook "
   ]
  },
  {
   "cell_type": "markdown",
   "metadata": {
    "slideshow": {
     "slide_type": "subslide"
    }
   },
   "source": [
    "### Tableau de bord \n",
    "- fenêtre qui s'ouvre au lancement de jupyter\n",
    "- contient la liste des fichiers du répertoire courant\n",
    "- possibilité de changer de répertoire si besoin\n",
    "- vignette verte devant les notebook en train de s'exécuter (pour stopper l'exécution : cochez le fichier puis cliquez sur `Shutdown`)\n",
    "- pour créer un notebook : `New` puis choisir le kernel (python si c'est le seul installé) "
   ]
  },
  {
   "cell_type": "markdown",
   "metadata": {
    "slideshow": {
     "slide_type": "fragment"
    }
   },
   "source": [
    "\n",
    "Le notebook créé s'ouvre dans une nouvelle fenêtre. Si vous cliquez sur `Untitled`, vous pouvez le renommer."
   ]
  },
  {
   "cell_type": "markdown",
   "metadata": {
    "slideshow": {
     "slide_type": "subslide"
    }
   },
   "source": [
    "### Utilisation d'un notebook\n",
    "\n",
    "\n",
    "Le notebook que vous avez créé est constitué d'un enchaînement de cellules. \n",
    "\n",
    "Une cellule est une unité dans laquelle vous pouvez au choix : coder, écrire en markdown (ce qui permet d'inclure du LaTeX, de l'HTML, du texte simple...), écrire de manière \"brute\".  \n",
    "\n",
    "Chaque cellule est indépendante : vous pouvez alterner texte et code. \n",
    "\n"
   ]
  },
  {
   "cell_type": "markdown",
   "metadata": {
    "slideshow": {
     "slide_type": "subslide"
    }
   },
   "source": [
    "#### Markdown : \n",
    "- Cliquez sur la première cellule\n",
    "- Dans la barre des tâches : `Code > Markdown`\n",
    "- Ecrivez le texte de votre choix\n",
    "- Cliquez sur la flèche (en haut) pour voir le résultat"
   ]
  },
  {
   "cell_type": "markdown",
   "metadata": {
    "slideshow": {
     "slide_type": "subslide"
    }
   },
   "source": [
    "Voici du texte markdown : \n",
    "\n",
    "# Gros titre \n",
    "## Titre \n",
    "### Petit titre \n",
    "#### En gras\n",
    "##### En italique"
   ]
  },
  {
   "cell_type": "markdown",
   "metadata": {
    "slideshow": {
     "slide_type": "subslide"
    }
   },
   "source": [
    "Vous aimez les maths ?   \n",
    "Insérez vos formules en latex : "
   ]
  },
  {
   "cell_type": "markdown",
   "metadata": {
    "slideshow": {
     "slide_type": "fragment"
    }
   },
   "source": [
    "#### Notation de Laudau : \n",
    "\n",
    "On dit que $f = O(\\Phi)$ au voisinage de $x_0$ si et seulement si :  \n",
    "\\begin{equation}\n",
    "\\exists \\eta > 0,\\exists k \\in \\mathbb{R}^+ : \\forall x \\in ]x_0 - \\eta, x_0 + \\eta[, \\mid f(x)\\mid < k\\mid \\Phi(x)\\mid   \n",
    "\\end{equation}\n",
    "c'est à dire si $\\Phi$ ne s'annule pas :  \n",
    "\\begin{equation}\n",
    "\\forall x \\in ]x_0 - \\eta, x_0 + \\eta[, \\mid \\frac{f(x)}{\\Phi(x)}\\mid < k \n",
    "\\end{equation}\n",
    "On dit que $f \\in o(\\Phi)$ au voisinage de $x_0$ si et seulement si :  \n",
    "\\begin{equation}\n",
    "\\forall \\epsilon > 0, \\exists \\eta > 0 : \\forall x \\in ]x_0 - \\eta, x_0 + \\eta[, \\mid f(x)\\mid < \\epsilon \\mid \\Phi(x)\\mid \n",
    "\\end{equation}\n",
    "c'est à dire si $\\Phi$ ne s'annule pas :  \n",
    "\\begin{equation}\n",
    "\\forall x \\in ]x_0 - \\eta, x_0 + \\eta[, \\mid \\frac{f(x)}{\\Phi(x)} \\mid < \\epsilon \n",
    "\\end{equation}"
   ]
  },
  {
   "cell_type": "markdown",
   "metadata": {
    "slideshow": {
     "slide_type": "subslide"
    }
   },
   "source": [
    "#### Code : \n",
    "\n",
    "Pour faire une nouvelle cellule : `Insert > Insert Cell Below`  \n",
    "La cellule est par défaut en mode `Code`. \n",
    "- Ecrivez un morceau de code, par exemple en python : "
   ]
  },
  {
   "cell_type": "code",
   "execution_count": 73,
   "metadata": {
    "slideshow": {
     "slide_type": "fragment"
    }
   },
   "outputs": [
    {
     "name": "stdout",
     "output_type": "stream",
     "text": [
      "Hello World\n"
     ]
    }
   ],
   "source": [
    "print(\"Hello World\") "
   ]
  },
  {
   "cell_type": "markdown",
   "metadata": {
    "slideshow": {
     "slide_type": "fragment"
    }
   },
   "source": [
    "- Pour exécuter le code, cliquez sur la flèche (en haut) ou sur `Shift-Enter`  \n",
    "\n",
    "Le résultat de l'exécution s'affiche directement sous la cellule (texte mais aussi graphiques, images, dataframe...).   "
   ]
  },
  {
   "cell_type": "code",
   "execution_count": 74,
   "metadata": {
    "slideshow": {
     "slide_type": "subslide"
    }
   },
   "outputs": [
    {
     "ename": "KeyboardInterrupt",
     "evalue": "",
     "output_type": "error",
     "traceback": [
      "\u001b[0;31m---------------------------------------------------------------------------\u001b[0m",
      "\u001b[0;31mKeyboardInterrupt\u001b[0m                         Traceback (most recent call last)",
      "\u001b[0;32m<ipython-input-74-5e7a817087af>\u001b[0m in \u001b[0;36m<module>\u001b[0;34m()\u001b[0m\n\u001b[1;32m      1\u001b[0m \u001b[0mk\u001b[0m\u001b[0;34m=\u001b[0m\u001b[0;36m10\u001b[0m\u001b[0;34m\u001b[0m\u001b[0m\n\u001b[1;32m      2\u001b[0m \u001b[0;32mfor\u001b[0m \u001b[0mi\u001b[0m \u001b[0;32min\u001b[0m \u001b[0mrange\u001b[0m\u001b[0;34m(\u001b[0m\u001b[0;36m10\u001b[0m\u001b[0;34m**\u001b[0m\u001b[0;36m10\u001b[0m\u001b[0;34m)\u001b[0m \u001b[0;34m:\u001b[0m\u001b[0;34m\u001b[0m\u001b[0m\n\u001b[0;32m----> 3\u001b[0;31m     \u001b[0mk\u001b[0m\u001b[0;34m+=\u001b[0m\u001b[0;36m1\u001b[0m\u001b[0;34m\u001b[0m\u001b[0m\n\u001b[0m",
      "\u001b[0;31mKeyboardInterrupt\u001b[0m: "
     ]
    }
   ],
   "source": [
    "k=10\n",
    "for i in range(10**10) : \n",
    "    k+=1"
   ]
  },
  {
   "cell_type": "markdown",
   "metadata": {
    "slideshow": {
     "slide_type": "fragment"
    }
   },
   "source": [
    "- Si vous voulez stopper l'exécution (ici boucle quasi infinie), cliquez sur `Interrupt kernel` (bouton carré en haut) ou prenez le raccourci `Esc+I+I`"
   ]
  },
  {
   "cell_type": "markdown",
   "metadata": {
    "slideshow": {
     "slide_type": "subslide"
    }
   },
   "source": [
    "#### Ecriture \"brute\"\n",
    "\n",
    "Il est possible d'insérer du texte brut qui ne sera pas traiter par jupyter notebook. "
   ]
  },
  {
   "cell_type": "raw",
   "metadata": {
    "slideshow": {
     "slide_type": "fragment"
    }
   },
   "source": [
    "### Juste une cellule où on peut écrire et qui reste brute"
   ]
  },
  {
   "cell_type": "markdown",
   "metadata": {
    "slideshow": {
     "slide_type": "subslide"
    }
   },
   "source": [
    "### Comment partager son .ipynb avec quelqu'un qui n'a pas jupyter ?\n",
    "\n",
    "L'outil <a href=\"https://nbconvert.readthedocs.io/en/latest/\"> nbconvert</a> permet de convertir un fichier `.ipynb` en plusieurs formats figés : pdf, LaTeX, HTML... \n",
    "\n",
    "Vous pourrez aussi télécharger le fichier avec l'extension du langage que vous utilisez (`.py` pour python, `.r` pour R...) :  \n",
    "`File > Download as > ...`"
   ]
  },
  {
   "cell_type": "markdown",
   "metadata": {
    "slideshow": {
     "slide_type": "subslide"
    }
   },
   "source": [
    "### Petit exercice : \n",
    "\n",
    "- Créez un jupyter notebook  \n",
    "- Changez le titre  \n",
    "- Ecrivez un code python pour afficher un graphique  \n",
    "- Commentez votre code en markdown, en incluant des formules LaTeX, et du HTML (si vous pouvez)  \n"
   ]
  },
  {
   "cell_type": "markdown",
   "metadata": {
    "slideshow": {
     "slide_type": "subslide"
    }
   },
   "source": [
    "#### Aide :  \n",
    "- Pour les formules mathématiques et les graphiques, ajoutez ces paquets au début du code :   \n",
    "```python\n",
    "import numpy as np\n",
    "import matplotlib.pyplot as plt  \n",
    "```\n",
    "- Utilisez `plt.plot` et `plt.show` pour le graphique  \n",
    "- Pour mettre des formules latex, utilisez `$formule$` ou `$$formule$$`   "
   ]
  },
  {
   "cell_type": "markdown",
   "metadata": {
    "slideshow": {
     "slide_type": "slide"
    }
   },
   "source": [
    "# Jupyter Slideshow\n",
    "\n",
    "Faire une présentation en Jupyter"
   ]
  },
  {
   "cell_type": "markdown",
   "metadata": {
    "slideshow": {
     "slide_type": "fragment"
    }
   },
   "source": [
    "#### Quels apports par rapport à une présentation classique ? \n",
    "- Présentez votre projet de programmation \n",
    "- Lancez votre code en direct (seulement les fragments que vous souhaitez)\n",
    "- Insérez les graphiques, images, formules, résultats de votre choix\n",
    "- Modifiez votre présentation en direct si besoin"
   ]
  },
  {
   "cell_type": "markdown",
   "metadata": {
    "slideshow": {
     "slide_type": "subslide"
    }
   },
   "source": [
    "### Installation de RISE, extension permettant l'aspect \"live\" de la présentation\n",
    "\n",
    "Suivez les  <a href=\"https://github.com/damianavila/RISE\"> instructions</a> de Damian Avila, un des développeurs de RISE"
   ]
  },
  {
   "cell_type": "markdown",
   "metadata": {
    "slideshow": {
     "slide_type": "notes"
    }
   },
   "source": [
    "### Utilisation de Slideshow et RISE\n",
    "\n",
    "- Ouvrir un Jupyter notebook (par exemple celui de l'exercice précédent)  \n",
    "- Cliquez sur `View > Cell Toolbar > Slideshow`\n",
    "\n",
    "#### La cellule change de forme. "
   ]
  },
  {
   "cell_type": "markdown",
   "metadata": {
    "slideshow": {
     "slide_type": "subslide"
    }
   },
   "source": [
    "Chaque cellule peut prendre un format différent selon le `Slide Type` choisi : \n",
    "- `Slide` \n",
    "- `Sub-Slide` : continuité de la `Slide` principale \n",
    "- `Fragment` : permet d'afficher le contenu de la slide fragment par fragment\n",
    "- `Skip` et `Notes` : cellule qu'on ne souhaite pas faire apparaître   \n",
    "\n",
    "Pour lancer la présentation, cliquez sur l'icône avec un diagramme (en haut)"
   ]
  },
  {
   "cell_type": "markdown",
   "metadata": {
    "slideshow": {
     "slide_type": "subslide"
    }
   },
   "source": [
    "### Petit exercice : \n",
    "\n",
    "Reprenez votre précédent notebook et créez votre propre présentation. Lancez-la pour voir le résultat !"
   ]
  },
  {
   "cell_type": "markdown",
   "metadata": {
    "slideshow": {
     "slide_type": "slide"
    }
   },
   "source": [
    "## Pour aller plus loin :\n",
    "\n",
    "Voici les raccourcis claviers très utiles pour les utilisateurs geeks :  <a href=\"https://gist.github.com/kidpixo/f4318f8c8143adee5b40\"> ici</a>  \n",
    "\n",
    "Cette présentation est très largement inspirée de la <a href=\"https://jupyter-notebook.readthedocs.io/en/latest/notebook.html0\"> documentation</a> de Jupyter Notebook. "
   ]
  }
 ],
 "metadata": {
  "celltoolbar": "Slideshow",
  "kernelspec": {
   "display_name": "Python 3",
   "language": "python",
   "name": "python3"
  },
  "language_info": {
   "codemirror_mode": {
    "name": "ipython",
    "version": 3
   },
   "file_extension": ".py",
   "mimetype": "text/x-python",
   "name": "python",
   "nbconvert_exporter": "python",
   "pygments_lexer": "ipython3",
   "version": "3.6.1"
  }
 },
 "nbformat": 4,
 "nbformat_minor": 2
}
